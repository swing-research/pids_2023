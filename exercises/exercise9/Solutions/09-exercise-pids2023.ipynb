{
 "cells": [
  {
   "cell_type": "markdown",
   "id": "09a4a421",
   "metadata": {},
   "source": [
    "```\n",
    "BEGIN ASSIGNMENT\n",
    "requirements: requirements.txt\n",
    "init_cell: false\n",
    "export_cell: false\n",
    "template_pdf: false\n",
    "files:\n",
    "    - train.csv\n",
    "generate:\n",
    "    token: ''\n",
    "    course_id: 62982        # required\n",
    "    assignment_id: 9    # required\n",
    "    filtering: true # true is the default\n",
    "    seed: 42\n",
    "    show_stdout: true\n",
    "    show_hidden: true\n",
    "    show_all_public: true\n",
    "    visibility: visible\n",
    "```"
   ]
  },
  {
   "cell_type": "markdown",
   "id": "26ca8f1a",
   "metadata": {
    "nbgrader": {
     "grade": false,
     "grade_id": "cell-525c2fd5f3e93d2b",
     "locked": true,
     "schema_version": 3,
     "solution": false,
     "task": false
    }
   },
   "source": [
    "# Exercise sheet 9\n",
    "**Hello everyone!**\n",
    "\n",
    "**Points: 15**\n",
    "\n",
    "Please let us know if you have questions or problems! <br>\n",
    "Contact us during the exercise session, on [Piazza](https://piazza.com/class/leibdr4lk8n3w4), or [via email](https://sada.dmi.unibas.ch/en/teaching/pids23).\n",
    "\n",
    "Please submit this exercise sheet on **GRADESCOPE**.\n",
    "Naming conventions:\n",
    "* Name of notebook: \"09-exercise-pids2023.ipynb\"\n",
    "\n",
    "Your notebook will be automatically graded using gradescope. To get graded, you need to upload the file *09-exercise-pids2023.ipynb* to gradescope. If you are using JupyterHub, make sure you have saved the current notebook, then you can download this file by following: *File*->*Download* and save the file on you computer.\n",
    "\n",
    "The sheet is released before the exercise session on Tuesday. You have until the next exercise session on Tuesday to submit this sheet. Most of the questions of the exercise sheet can be handle during the session.\n",
    "\n",
    "**Handout date**: 02.05.2023 <br>\n",
    "**Submission date**: 09.05.2023 <br>\n",
    "\n",
    "### Please name the variables as suggested! Be careful with the type! Otherwise the grading system will fail you!"
   ]
  },
  {
   "cell_type": "code",
   "execution_count": null,
   "id": "ba40951b",
   "metadata": {
    "nbgrader": {
     "grade": false,
     "grade_id": "cell-41524afeb7ebe206",
     "locked": true,
     "schema_version": 3,
     "solution": false,
     "task": false
    }
   },
   "outputs": [],
   "source": [
    "import pandas as pd\n",
    "import seaborn as sns\n",
    "import matplotlib.pyplot as plt\n",
    "import numpy as np\n",
    "from scipy import stats\n",
    "from scipy.stats import norm\n",
    "from nose.tools import assert_is_instance, assert_equal, assert_almost_equal, assert_true"
   ]
  },
  {
   "cell_type": "code",
   "execution_count": null,
   "id": "96c1ba2f",
   "metadata": {},
   "outputs": [],
   "source": [
    "import otter\n",
    "grader = otter.Notebook()"
   ]
  },
  {
   "cell_type": "markdown",
   "id": "38ad6ff7",
   "metadata": {
    "nbgrader": {
     "grade": false,
     "grade_id": "cell-4637965bfae8d65f",
     "locked": true,
     "schema_version": 3,
     "solution": false,
     "task": false
    }
   },
   "source": [
    "# More uncertainty and confidence intervals!\n",
    "Throughout this notebook, we will steadily increase our understanding of confidence intervals. While there are more mathematical notations than usual, they are included solely to enhance the clarity of the exercises. You won't need to run difficult computations other than empirical mean and empirical standard deviation.\n"
   ]
  },
  {
   "cell_type": "markdown",
   "id": "40a58790",
   "metadata": {
    "nbgrader": {
     "grade": false,
     "grade_id": "cell-53460d34058f3491",
     "locked": true,
     "schema_version": 3,
     "solution": false,
     "task": false
    }
   },
   "source": [
    "# Question 1: Titanic dataset\n",
    "We are working with a dataset containing information about passengers of the sadly famous Titanic. We will see how we can use tools from the lecture to get a sense of what factors are important to increase our probability of survival during a shipwreck.<br>\n",
    "\n",
    "In the first part, we will load the dataset, and plot a few values to see which parameters might be important. In a second part, we will focus on one particular feature and see if it is trustworthy."
   ]
  },
  {
   "cell_type": "markdown",
   "id": "fb81b57e",
   "metadata": {
    "nbgrader": {
     "grade": false,
     "grade_id": "cell-626919b1facd1abd",
     "locked": true,
     "schema_version": 3,
     "solution": false,
     "task": false
    }
   },
   "source": [
    "### 1a (1 point): \n",
    "We first load the dataset. If you are working locally, you should be able to load the dataset from the csv file named 'train.csv', in the same location as this current file."
   ]
  },
  {
   "cell_type": "markdown",
   "id": "485d6c99",
   "metadata": {},
   "source": [
    "```\n",
    "BEGIN QUESTION\n",
    "name: Question 1a        # (required) the path to a requirements.txt file\n",
    "manual: false     # whether this is a manually-graded question\n",
    "points: 1      # how many points this question is worth; defaults to 1 internally\n",
    "check_cell: true  # whether to include a check cell after this question (for autograded questions only)\n",
    "```"
   ]
  },
  {
   "cell_type": "code",
   "execution_count": null,
   "id": "af473f8c",
   "metadata": {
    "nbgrader": {
     "grade": false,
     "grade_id": "cell-de32fce7c84d1792",
     "locked": true,
     "schema_version": 3,
     "solution": false,
     "task": false
    }
   },
   "outputs": [],
   "source": [
    "data_source = \"https://raw.githubusercontent.com/paulhendricks/titanic/master/inst/data-raw/train.csv\"\n",
    "data = pd.read_csv(data_source) # SOLUTION\n",
    "data.head()"
   ]
  },
  {
   "cell_type": "code",
   "execution_count": null,
   "id": "00e7b11a",
   "metadata": {},
   "outputs": [],
   "source": [
    "## test ##\n",
    "assert_equal(len(data),891)"
   ]
  },
  {
   "cell_type": "markdown",
   "id": "51b62360",
   "metadata": {},
   "source": [
    "### 1b (1 point):\n",
    "Create a variable ***data_class_survived*** and ***data_class_not_survived*** that contains only the passengers that survived and the passagengers that didn't survive, respectively. Here, we will only keep the *Pclass* and *Survived* columns from the dataset. "
   ]
  },
  {
   "cell_type": "markdown",
   "id": "08fbbdae",
   "metadata": {},
   "source": [
    "```\n",
    "BEGIN QUESTION\n",
    "name: Question 1b        # (required) the path to a requirements.txt file\n",
    "manual: false     # whether this is a manually-graded question\n",
    "points: 1      # how many points this question is worth; defaults to 1 internally\n",
    "check_cell: true  # whether to include a check cell after this question (for autograded questions only)\n",
    "```"
   ]
  },
  {
   "cell_type": "code",
   "execution_count": null,
   "id": "f02c0ac7",
   "metadata": {},
   "outputs": [],
   "source": [
    "data_class = data[['Survived','Pclass']]\n",
    "data_class_survived = data_class[data_class['Survived']==1] #SOLUTION\n",
    "data_class_not_survived = data_class[data_class['Survived']==0] #SOLUTION"
   ]
  },
  {
   "cell_type": "code",
   "execution_count": null,
   "id": "b38f778c",
   "metadata": {},
   "outputs": [],
   "source": [
    "## test ##\n",
    "assert_true(len(data_class_survived), 342)"
   ]
  },
  {
   "cell_type": "code",
   "execution_count": null,
   "id": "9908112f",
   "metadata": {},
   "outputs": [],
   "source": [
    "## test ##\n",
    "assert_true(len(data_class_survived), 549)"
   ]
  },
  {
   "cell_type": "markdown",
   "id": "b8a7064f",
   "metadata": {
    "nbgrader": {
     "grade": false,
     "grade_id": "cell-b28895179eafb8c6",
     "locked": true,
     "schema_version": 3,
     "solution": false,
     "task": false
    }
   },
   "source": [
    "### 1c (1 point): \n",
    "Make a normalized histogram showing the class (column 'Pclass') of the passengers that survived.<br>\n",
    "On the same plot, display the same histogram for the passengers that did not survive.<br>\n",
    "Hint: you can use plt.hist and the density parameter."
   ]
  },
  {
   "cell_type": "markdown",
   "id": "c8bceb8e",
   "metadata": {},
   "source": [
    "```\n",
    "BEGIN QUESTION\n",
    "name: Question 1c        # (required) the path to a requirements.txt file\n",
    "manual: true     # whether this is a manually-graded question\n",
    "points: 1      # how many points this question is worth; defaults to 1 internally\n",
    "check_cell: false  # whether to include a check cell after this question (for autograded questions only)\n",
    "```"
   ]
  },
  {
   "cell_type": "code",
   "execution_count": null,
   "id": "3d75bbf6",
   "metadata": {
    "nbgrader": {
     "grade": false,
     "grade_id": "cell-ede3d355a0957fbe",
     "locked": false,
     "schema_version": 3,
     "solution": true,
     "task": false
    }
   },
   "outputs": [],
   "source": [
    "# BEGIN SOLUTION\n",
    "_ = plt.hist(data_class_survived['Pclass'],bins=16,alpha=0.5,label='survived',density=True)\n",
    "_ = plt.hist(data_class_not_survived['Pclass'],bins=16,alpha=0.5,label='not survived',density=True)\n",
    "_= plt.legend()\n",
    "# END SOLUTION"
   ]
  },
  {
   "cell_type": "markdown",
   "id": "528ba721",
   "metadata": {
    "nbgrader": {
     "grade": false,
     "grade_id": "cell-e44d240b6d693930",
     "locked": true,
     "schema_version": 3,
     "solution": false,
     "task": false
    }
   },
   "source": [
    "### 1d (1 point):\n",
    "Similar to 1c), display the 'Fare' of passengers survived in a histogram.<br>\n",
    "On the same plot, display the same histogram for the passengers that did not survive. <br>\n",
    "In order to do so, create data frames for the information in column 'Fare' as you did in 1b.\n"
   ]
  },
  {
   "cell_type": "markdown",
   "id": "ba6fcd84",
   "metadata": {},
   "source": [
    "```\n",
    "BEGIN QUESTION\n",
    "name: Question 1d        # (required) the path to a requirements.txt file\n",
    "manual: true     # whether this is a manually-graded question\n",
    "points: 1      # how many points this question is worth; defaults to 1 internally\n",
    "check_cell: false  # whether to include a check cell after this question (for autograded questions only)\n",
    "```"
   ]
  },
  {
   "cell_type": "code",
   "execution_count": null,
   "id": "f27913b3",
   "metadata": {
    "nbgrader": {
     "grade": false,
     "grade_id": "cell-f95caf2cb1886049",
     "locked": false,
     "schema_version": 3,
     "solution": true,
     "task": false
    }
   },
   "outputs": [],
   "source": [
    "# BEGIN SOLUTION\n",
    "data_Fare = data[['Survived','Fare']]\n",
    "data_Fare_survived = data_Fare[data_Fare['Survived']==1]\n",
    "data_Fare_not_survived = data_Fare[data_Fare['Survived']==0]\n",
    "\n",
    "plt.hist(data_Fare_survived['Fare'],bins=16,alpha=0.5,label='survived',density=True)\n",
    "plt.hist(data_Fare_not_survived['Fare'],bins=16,alpha=0.5,label='not survived',density=True)\n",
    "plt.legend()\n",
    "# END SOLUTION"
   ]
  },
  {
   "cell_type": "markdown",
   "id": "80327103",
   "metadata": {
    "nbgrader": {
     "grade": false,
     "grade_id": "cell-f5f3401d73531224",
     "locked": true,
     "schema_version": 3,
     "solution": false,
     "task": false
    }
   },
   "source": [
    "### 1e (2 points):\n",
    "Create variables ***data_age_survived*** and ***data_age_not_survived*** to extract passengers that survived and passengers that did not.<br>\n",
    "Among the passengers that survived, display ages of the passengers in a histogram. Make sure that the histogram is *normalized*<br>\n",
    "On the same plot, display the same normalized histogram for the passengers that didn't survive.<br>\n",
    "Hint: you can use plt.hist."
   ]
  },
  {
   "cell_type": "markdown",
   "id": "189e4f0c",
   "metadata": {},
   "source": [
    "```\n",
    "BEGIN QUESTION\n",
    "name: Question 1e        # (required) the path to a requirements.txt file\n",
    "manual: false     # whether this is a manually-graded question\n",
    "points: 2      # how many points this question is worth; defaults to 1 internally\n",
    "check_cell: true  # whether to include a check cell after this question (for autograded questions only)\n",
    "```"
   ]
  },
  {
   "cell_type": "code",
   "execution_count": null,
   "id": "f1f04447",
   "metadata": {
    "nbgrader": {
     "grade": false,
     "grade_id": "cell-0da4e66b7921cec4",
     "locked": false,
     "schema_version": 3,
     "solution": true,
     "task": false
    }
   },
   "outputs": [],
   "source": [
    "# BEGIN SOLUTION\n",
    "data_age = data[['Survived','Age']] \n",
    "# END SOLUTION\n",
    "data_age_survived = data_age[data_age['Survived']==1] # SOLUTION\n",
    "data_age_not_survived = data_age[data_age['Survived']==0] # SOLUTION\n",
    "\n",
    "# BEGIN SOLUTION\n",
    "plt.hist(data_age_survived['Age'],bins=16,alpha=0.5,label='survived',density=True)\n",
    "plt.hist(data_age_not_survived['Age'],bins=16,alpha=0.5,label='not survived',density=True)\n",
    "plt.legend()\n",
    "# END SOLUTION"
   ]
  },
  {
   "cell_type": "code",
   "execution_count": null,
   "id": "cc834d95",
   "metadata": {},
   "outputs": [],
   "source": [
    "## test ##\n",
    "assert_equal(len(data_age_survived),342)"
   ]
  },
  {
   "cell_type": "code",
   "execution_count": null,
   "id": "9e9bfd8b",
   "metadata": {},
   "outputs": [],
   "source": [
    "## test ##\n",
    "assert_equal(len(data_age_not_survived),549)"
   ]
  },
  {
   "cell_type": "markdown",
   "id": "74cf6dde",
   "metadata": {
    "nbgrader": {
     "grade": false,
     "grade_id": "cell-1614b841c240181a",
     "locked": true,
     "schema_version": 3,
     "solution": false,
     "task": false
    }
   },
   "source": [
    "### 1f (2 points): \n",
    "Display on the same plot, the column 'Survived' for the female and male passengers. <br>\n",
    "Hint: you can use plt.hist.<br>\n",
    "Among the passengers, compute the proportion of survivors that are women and store it in ***surv_female***.<br>\n",
    "Among the passengers, compute the proportion of survivors that are men and store it in ***surv_male***."
   ]
  },
  {
   "cell_type": "markdown",
   "id": "69bedffe",
   "metadata": {},
   "source": [
    "```\n",
    "BEGIN QUESTION\n",
    "name: Question 1f        # (required) the path to a requirements.txt file\n",
    "manual: false     # whether this is a manually-graded question\n",
    "points: 2      # how many points this question is worth; defaults to 1 internally\n",
    "check_cell: false  # whether to include a check cell after this question (for autograded questions only)\n",
    "```"
   ]
  },
  {
   "cell_type": "code",
   "execution_count": null,
   "id": "cd3839dc",
   "metadata": {
    "nbgrader": {
     "grade": false,
     "grade_id": "cell-a66ee7dc2a8b5ed1",
     "locked": false,
     "schema_version": 3,
     "solution": true,
     "task": false
    }
   },
   "outputs": [],
   "source": [
    "surv_female = 0 # SOLUTION\n",
    "surv_male = 0 # SOLUTION\n",
    "# BEGIN SOLUTION\n",
    "data_sex = data[['Survived','Sex']]\n",
    "data_female = data_sex[data_sex['Sex']=='female']\n",
    "data_male = data_sex[data_sex['Sex']=='male']\n",
    "\n",
    "plt.hist(data_female['Survived'],alpha=0.5,label='female',density=True)\n",
    "plt.hist(data_male['Survived'],alpha=0.5,label='male',density=True)\n",
    "plt.legend()\n",
    "\n",
    "surv_female = (data_female['Survived']==1).sum()/len(data_sex)\n",
    "surv_male = (data_male['Survived']==1).sum()/len(data_sex)\n",
    "# END SOLUTION"
   ]
  },
  {
   "cell_type": "code",
   "execution_count": null,
   "id": "ca07fc2c",
   "metadata": {},
   "outputs": [],
   "source": [
    "## test ##\n",
    "assert_almost_equal(surv_female,0.2615039281705948 , places=2)"
   ]
  },
  {
   "cell_type": "code",
   "execution_count": null,
   "id": "67773b5f",
   "metadata": {},
   "outputs": [],
   "source": [
    "## test ##\n",
    "assert_almost_equal(surv_male,0.122334455667789 , places=2)"
   ]
  },
  {
   "cell_type": "markdown",
   "id": "468e95a2",
   "metadata": {
    "nbgrader": {
     "grade": false,
     "grade_id": "cell-b8d8461a1b1e2d4c",
     "locked": true,
     "schema_version": 3,
     "solution": false,
     "task": false
    }
   },
   "source": [
    "## Will your sex increase or decrease your probability of survival?\n",
    "\n",
    "Let $(X_i)_{i\\leq N_X} \\overset{i.i.d.}{\\sim} \\mathrm{Ber}(p_X)$ denote $N_X$ Bernoulli random variables that model the outcome of a female passenger on the Titanic. <br>\n",
    "Let $(Y_i)_{i\\leq N_Y} \\overset{i.i.d.}{\\sim} \\mathrm{Ber}(p_Y)$ denote $N_Y$ Bernoulli random variables that model the outcome of a male passenger on the Titanic.<br>\n",
    "\n",
    "We aim at estimating the probailty of survival $p_X$ and $p_Y$."
   ]
  },
  {
   "cell_type": "markdown",
   "id": "f9f74d15",
   "metadata": {
    "nbgrader": {
     "grade": false,
     "grade_id": "cell-dc490e5fa8151ae5",
     "locked": true,
     "schema_version": 3,
     "solution": false,
     "task": false
    }
   },
   "source": [
    "Ideally we would like to get the values $p_X = \\mathbb{E}[X_i]$ and $p_Y = \\mathbb{E}[Y_i]$. Unfortunately, we only have access to the $N_X$ realizations $(X_i)$ and $N_Y$ realization $(Y_i)$. <br>"
   ]
  },
  {
   "cell_type": "markdown",
   "id": "aa384102",
   "metadata": {},
   "source": [
    "### 1g (1 point):\n",
    "Use the law of large numbers to create an estimate $\\hat p_X$ of $p_X$ and an estimate $\\hat p_Y$ of $p_Y$. Name these estimators ***pX_hat*** and ***pY_hat***."
   ]
  },
  {
   "cell_type": "markdown",
   "id": "4e9a36cc",
   "metadata": {},
   "source": [
    "```\n",
    "BEGIN QUESTION\n",
    "name: Question 1g        # (required) the path to a requirements.txt file\n",
    "manual: false     # whether this is a manually-graded question\n",
    "points: 1      # how many points this question is worth; defaults to 1 internally\n",
    "check_cell: true  # whether to include a check cell after this question (for autograded questions only)\n",
    "```"
   ]
  },
  {
   "cell_type": "code",
   "execution_count": null,
   "id": "fe52d941",
   "metadata": {
    "nbgrader": {
     "grade": false,
     "grade_id": "cell-f870da6474590bea",
     "locked": false,
     "schema_version": 3,
     "solution": true,
     "task": false
    }
   },
   "outputs": [],
   "source": [
    "pX_hat = (data_female['Survived']==1).mean() # SOLUTION\n",
    "pY_hat = (data_male['Survived']==1).mean() # SOLUTION\n",
    "print(pX_hat)\n",
    "print(pY_hat)"
   ]
  },
  {
   "cell_type": "code",
   "execution_count": null,
   "id": "110fe9f5",
   "metadata": {},
   "outputs": [],
   "source": [
    "## test ##\n",
    "assert_almost_equal(pX_hat , 0.7420382165605095)"
   ]
  },
  {
   "cell_type": "code",
   "execution_count": null,
   "id": "b43eaad6",
   "metadata": {},
   "outputs": [],
   "source": [
    "## test ##\n",
    "assert_almost_equal(pY_hat , 0.18890814558058924 , places=2)"
   ]
  },
  {
   "cell_type": "markdown",
   "id": "b739f41a",
   "metadata": {
    "nbgrader": {
     "grade": false,
     "grade_id": "cell-c0d8be22c9907c69",
     "locked": true,
     "schema_version": 3,
     "solution": false,
     "task": false
    }
   },
   "source": [
    "Let's do some math.<br>\n",
    "We have some estimate for $p_X$ and $p_Y$, but we would like to know if we can trust them. <br>\n",
    "\n",
    "Let's first focus on $p_X$. <br>\n",
    "We want to compute the probability $p_{trust X}$ that we can trust our estimate for $p_X$:\n",
    "$$ p_{trust X} = \\mathbb{P}\\left( p_X-0.05 \\leq \\hat X \\leq p_X + 0.05 \\right). $$\n",
    "\n",
    "Based the central limit theorem, we'll make the assumption that $\\hat p_X \\sim \\mathcal{N}(p_X, \\sigma^2/N_X)$.<br>\n",
    "Then, following slides of week 8, we have\n",
    "$$ p_{trust X} = \\mathbb{P}\\left( Z \\leq 0.05\\sqrt{ \\frac{N_X}{p_X(1-p_X)}} \\right)-\\mathbb{P}\\left( Z \\leq -0.05\\sqrt{ \\frac{N_X}{p_X(1-p_X)}} \\right), $$\n",
    "where $Z\\sim \\mathcal{N}(0,1)$. <br>\n",
    "As mentioned during the lecture, we don't know $p_X(1-p_X)$. Let's replace this term by $\\hat p_X(1-\\hat p_X)$.\n"
   ]
  },
  {
   "cell_type": "markdown",
   "id": "d8a1d178",
   "metadata": {},
   "source": [
    "### 1h (2 points):\n",
    "\n",
    "Compute the value \n",
    "$$ p1 = \\mathbb{P}\\left( Z \\leq 0.05\\sqrt{ \\frac{N_X}{\\hat p_X(1-\\hat p_X)}} \\right)$$\n",
    "and \n",
    "$$ p2 = \\mathbb{P}\\left( Z \\leq -0.05\\sqrt{ \\frac{N_X}{\\hat p_X(1-\\hat p_X)}} \\right).$$\n",
    "Store these values in variables named $p1$ and $p2$.<br>\n",
    "Hint: you can have access to the cumulative distribvutuion function (cdf) of a Gaussian random variable by using the function *norm* (for normal) from the library *scipy.stats* (already imported)."
   ]
  },
  {
   "cell_type": "markdown",
   "id": "b7185248",
   "metadata": {},
   "source": [
    "```\n",
    "BEGIN QUESTION\n",
    "name: Question 1h        # (required) the path to a requirements.txt file\n",
    "manual: false     # whether this is a manually-graded question\n",
    "points: 2      # how many points this question is worth; defaults to 1 internally\n",
    "check_cell: true  # whether to include a check cell after this question (for autograded questions only)\n",
    "```"
   ]
  },
  {
   "cell_type": "code",
   "execution_count": null,
   "id": "750bae21",
   "metadata": {
    "nbgrader": {
     "grade": false,
     "grade_id": "cell-11532a187e7a16cc",
     "locked": false,
     "schema_version": 3,
     "solution": true,
     "task": false
    }
   },
   "outputs": [],
   "source": [
    "# BEGIN SOLUTION\n",
    "N_X = len(data_female)\n",
    "# END SOLUTION\n",
    "p1 = norm.cdf(0.05*np.sqrt(N_X/(pX_hat*(1-pX_hat)))) # SOLUTION\n",
    "p2 = norm.cdf(-0.05*np.sqrt(N_X/(pX_hat*(1-pX_hat)))) # SOLUTION\n",
    "print(p1, p2)"
   ]
  },
  {
   "cell_type": "code",
   "execution_count": null,
   "id": "e22d5b5a",
   "metadata": {},
   "outputs": [],
   "source": [
    "## test ##\n",
    "data_sex = data[['Survived','Sex']]\n",
    "data_female = data_sex[data_sex['Sex']=='female']\n",
    "data_male = data_sex[data_sex['Sex']=='male']\n",
    "N_X = len(data_female)\n",
    "assert_almost_equal(p1 , norm.cdf(0.05*np.sqrt(N_X/(pX_hat*(1-pX_hat)))) , places=2)"
   ]
  },
  {
   "cell_type": "code",
   "execution_count": null,
   "id": "b1bf8073",
   "metadata": {},
   "outputs": [],
   "source": [
    "## test ##\n",
    "data_sex = data[['Survived','Sex']]\n",
    "data_female = data_sex[data_sex['Sex']=='female']\n",
    "data_male = data_sex[data_sex['Sex']=='male']\n",
    "N_X = len(data_female)\n",
    "assert_almost_equal(p2 , norm.cdf(-0.05*np.sqrt(N_X/(pX_hat*(1-pX_hat))))  , places=2)"
   ]
  },
  {
   "cell_type": "markdown",
   "id": "a2dc4f4d",
   "metadata": {
    "nbgrader": {
     "grade": false,
     "grade_id": "cell-97dc9411b2c42168",
     "locked": true,
     "schema_version": 3,
     "solution": false,
     "task": false
    }
   },
   "source": [
    "### 1i (1 point): \n",
    "Based on the previous assumptions, what is the probability that $\\hat p_X \\in [p_X - 0.05, p_X+0.05]$? Store your answer in a variable named ***proba_trust_X***."
   ]
  },
  {
   "cell_type": "markdown",
   "id": "5d6e4815",
   "metadata": {},
   "source": [
    "```\n",
    "BEGIN QUESTION\n",
    "name: Question 1i        # (required) the path to a requirements.txt file\n",
    "manual: false     # whether this is a manually-graded question\n",
    "points: 1      # how many points this question is worth; defaults to 1 internally\n",
    "check_cell: true  # whether to include a check cell after this question (for autograded questions only)\n",
    "```"
   ]
  },
  {
   "cell_type": "code",
   "execution_count": null,
   "id": "61c1cca9",
   "metadata": {
    "nbgrader": {
     "grade": false,
     "grade_id": "cell-c5f50be87fabc3a0",
     "locked": false,
     "schema_version": 3,
     "solution": true,
     "task": false
    }
   },
   "outputs": [],
   "source": [
    "proba_trust_X = p1 - p2 # SOLUTION\n",
    "print(proba_trust_X)"
   ]
  },
  {
   "cell_type": "code",
   "execution_count": null,
   "id": "4f0c7189",
   "metadata": {},
   "outputs": [],
   "source": [
    "## test ##\n",
    "assert_almost_equal(proba_trust_X , p1 - p2 , places=2)"
   ]
  },
  {
   "cell_type": "markdown",
   "id": "ef0b1f10",
   "metadata": {
    "nbgrader": {
     "grade": false,
     "grade_id": "cell-1559a3e0780d2fad",
     "locked": true,
     "schema_version": 3,
     "solution": false,
     "task": false
    }
   },
   "source": [
    "### 1j (1 point): \n",
    "Using a similar approach, compute the probability that $\\hat p_Y \\in [p_Y - 0.05, p_Y+0.05]$? Store your answer in a variable named ***proba_trust_Y***."
   ]
  },
  {
   "cell_type": "markdown",
   "id": "6b2100df",
   "metadata": {},
   "source": [
    "```\n",
    "BEGIN QUESTION\n",
    "name: Question 1j        # (required) the path to a requirements.txt file\n",
    "manual: false     # whether this is a manually-graded question\n",
    "points: 1      # how many points this question is worth; defaults to 1 internally\n",
    "check_cell: true  # whether to include a check cell after this question (for autograded questions only)\n",
    "```"
   ]
  },
  {
   "cell_type": "code",
   "execution_count": null,
   "id": "7dcf8b6f",
   "metadata": {
    "nbgrader": {
     "grade": false,
     "grade_id": "cell-b6aeee80244a9dd3",
     "locked": false,
     "schema_version": 3,
     "solution": true,
     "task": false
    }
   },
   "outputs": [],
   "source": [
    "# BEGIN SOLUTION\n",
    "N_Y = len(data_male)\n",
    "p1 = norm.cdf(0.05*np.sqrt(N_Y/(pY_hat*(1-pY_hat)))) \n",
    "p2 = norm.cdf(-0.05*np.sqrt(N_Y/(pY_hat*(1-pY_hat)))) \n",
    "# END SOLUTION\n",
    "proba_trust_Y = p1 - p2 # SOLUTION\n",
    "print(proba_trust_Y)"
   ]
  },
  {
   "cell_type": "code",
   "execution_count": null,
   "id": "ee423e80",
   "metadata": {
    "nbgrader": {
     "grade": true,
     "grade_id": "cell-b361b39476a7faf5",
     "locked": true,
     "points": 4,
     "schema_version": 3,
     "solution": false,
     "task": false
    }
   },
   "outputs": [],
   "source": [
    "## test ##\n",
    "data_sex = data[['Survived','Sex']]\n",
    "data_female = data_sex[data_sex['Sex']=='female']\n",
    "data_male = data_sex[data_sex['Sex']=='male']\n",
    "N_Y = len(data_male)\n",
    "assert_almost_equal(proba_trust_Y , norm.cdf(0.05*np.sqrt(N_Y/(pY_hat*(1-pY_hat))))- norm.cdf(-0.05*np.sqrt(N_Y/(pY_hat*(1-pY_hat))))  , places=2)"
   ]
  },
  {
   "cell_type": "markdown",
   "id": "540fbb94",
   "metadata": {
    "nbgrader": {
     "grade": false,
     "grade_id": "cell-d6958f47450d57fb",
     "locked": true,
     "schema_version": 3,
     "solution": false,
     "task": false
    }
   },
   "source": [
    "# What about the children?\n",
    "Should we remove the children in the previous analysis about the sex? If we do so, the number of women drop from 314 to 259. And we have seen in the lecture that the lower the number of sample, the worse is the confidence interval. \n",
    "<br>\n",
    "But anyway, let's finish by checking that children have a very high probability of survival."
   ]
  },
  {
   "cell_type": "markdown",
   "id": "37997b16",
   "metadata": {},
   "source": [
    "### 1k (2 points): \n",
    "Compute the probability of survival of a child (age<18) and store it in ***proba_surv_child***."
   ]
  },
  {
   "cell_type": "markdown",
   "id": "16bb4bad",
   "metadata": {},
   "source": [
    "```\n",
    "BEGIN QUESTION\n",
    "name: Question 1k        # (required) the path to a requirements.txt file\n",
    "manual: false     # whether this is a manually-graded question\n",
    "points: 2      # how many points this question is worth; defaults to 1 internally\n",
    "check_cell: true  # whether to include a check cell after this question (for autograded questions only)\n",
    "```"
   ]
  },
  {
   "cell_type": "code",
   "execution_count": null,
   "id": "eb47998b",
   "metadata": {
    "nbgrader": {
     "grade": false,
     "grade_id": "cell-f85e1d8e3c4f0049",
     "locked": false,
     "schema_version": 3,
     "solution": true,
     "task": false
    }
   },
   "outputs": [],
   "source": [
    "proba_surv_child = 0 # SOLUTION\n",
    "# BEGIN SOLUTION\n",
    "data_child = data[['Survived','Age','Sex']]\n",
    "data_child = data_child[data_child['Age']<18]\n",
    "\n",
    "proba_surv_child = (data_child['Survived']==1).mean()\n",
    "# print(\"Number of children that survived:\", (data_child['Survived']==1).sum())\n",
    "# print(\"Number of children that didn't survive:\",(data_child['Survived']==0).sum())\n",
    "\n",
    "data_child_female = data_child[data_child['Sex']=='female']\n",
    "data_child_male = data_child[data_child['Sex']=='male']\n",
    "#print(len(data_child_male),len(data_child_female))\n",
    "# END SOLUTION \n",
    "print(proba_surv_child)"
   ]
  },
  {
   "cell_type": "code",
   "execution_count": null,
   "id": "5d3e644f",
   "metadata": {},
   "outputs": [],
   "source": [
    "## test ##\n",
    "assert_almost_equal(proba_surv_child , 0.5398230088495575 , places=2)"
   ]
  }
 ],
 "metadata": {
  "celltoolbar": "Create Assignment",
  "kernelspec": {
   "display_name": "Python 3 (ipykernel)",
   "language": "python",
   "name": "python3"
  },
  "language_info": {
   "codemirror_mode": {
    "name": "ipython",
    "version": 3
   },
   "file_extension": ".py",
   "mimetype": "text/x-python",
   "name": "python",
   "nbconvert_exporter": "python",
   "pygments_lexer": "ipython3",
   "version": "3.10.9"
  }
 },
 "nbformat": 4,
 "nbformat_minor": 5
}
